{
 "cells": [
  {
   "cell_type": "code",
   "execution_count": 2,
   "metadata": {},
   "outputs": [],
   "source": [
    "import numpy as np\n",
    "import pandas as pd"
   ]
  },
  {
   "cell_type": "code",
   "execution_count": 3,
   "metadata": {},
   "outputs": [
    {
     "output_type": "execute_result",
     "data": {
      "text/plain": "{'name': ['alamin', 'fatema', 'tania', 'mim'],\n 'age': [22, 21, 22, 20],\n 'city': ['dhaka', 'comilla', 'itali', 'sylet']}"
     },
     "metadata": {},
     "execution_count": 3
    }
   ],
   "source": [
    "data = {'name':['alamin','fatema','tania','mim'],\n",
    "        'age':[22,21,22,20],\n",
    "        'city':['dhaka','comilla','itali','sylet']}\n",
    "data"
   ]
  },
  {
   "cell_type": "code",
   "execution_count": 4,
   "metadata": {},
   "outputs": [
    {
     "output_type": "execute_result",
     "data": {
      "text/plain": "dict"
     },
     "metadata": {},
     "execution_count": 4
    }
   ],
   "source": [
    "type(data)"
   ]
  },
  {
   "cell_type": "code",
   "execution_count": 5,
   "metadata": {},
   "outputs": [
    {
     "output_type": "execute_result",
     "data": {
      "text/plain": "     name  age     city\n0  alamin   22    dhaka\n1  fatema   21  comilla\n2   tania   22    itali\n3     mim   20    sylet",
      "text/html": "<div>\n<style scoped>\n    .dataframe tbody tr th:only-of-type {\n        vertical-align: middle;\n    }\n\n    .dataframe tbody tr th {\n        vertical-align: top;\n    }\n\n    .dataframe thead th {\n        text-align: right;\n    }\n</style>\n<table border=\"1\" class=\"dataframe\">\n  <thead>\n    <tr style=\"text-align: right;\">\n      <th></th>\n      <th>name</th>\n      <th>age</th>\n      <th>city</th>\n    </tr>\n  </thead>\n  <tbody>\n    <tr>\n      <th>0</th>\n      <td>alamin</td>\n      <td>22</td>\n      <td>dhaka</td>\n    </tr>\n    <tr>\n      <th>1</th>\n      <td>fatema</td>\n      <td>21</td>\n      <td>comilla</td>\n    </tr>\n    <tr>\n      <th>2</th>\n      <td>tania</td>\n      <td>22</td>\n      <td>itali</td>\n    </tr>\n    <tr>\n      <th>3</th>\n      <td>mim</td>\n      <td>20</td>\n      <td>sylet</td>\n    </tr>\n  </tbody>\n</table>\n</div>"
     },
     "metadata": {},
     "execution_count": 5
    }
   ],
   "source": [
    "df = pd.DataFrame(data=data)\n",
    "df"
   ]
  },
  {
   "cell_type": "code",
   "execution_count": 6,
   "metadata": {},
   "outputs": [
    {
     "output_type": "execute_result",
     "data": {
      "text/plain": "0    alamin\n1    fatema\n2     tania\n3       mim\nName: name, dtype: object"
     },
     "metadata": {},
     "execution_count": 6
    }
   ],
   "source": [
    "df['name']"
   ]
  },
  {
   "cell_type": "code",
   "execution_count": 7,
   "metadata": {},
   "outputs": [
    {
     "output_type": "execute_result",
     "data": {
      "text/plain": "0    alamin\n1    fatema\n2     tania\n3       mim\nName: name, dtype: object"
     },
     "metadata": {},
     "execution_count": 7
    }
   ],
   "source": [
    "df.name"
   ]
  },
  {
   "cell_type": "code",
   "execution_count": 8,
   "metadata": {},
   "outputs": [
    {
     "output_type": "execute_result",
     "data": {
      "text/plain": "     name\n0  alamin\n1  fatema\n2   tania\n3     mim",
      "text/html": "<div>\n<style scoped>\n    .dataframe tbody tr th:only-of-type {\n        vertical-align: middle;\n    }\n\n    .dataframe tbody tr th {\n        vertical-align: top;\n    }\n\n    .dataframe thead th {\n        text-align: right;\n    }\n</style>\n<table border=\"1\" class=\"dataframe\">\n  <thead>\n    <tr style=\"text-align: right;\">\n      <th></th>\n      <th>name</th>\n    </tr>\n  </thead>\n  <tbody>\n    <tr>\n      <th>0</th>\n      <td>alamin</td>\n    </tr>\n    <tr>\n      <th>1</th>\n      <td>fatema</td>\n    </tr>\n    <tr>\n      <th>2</th>\n      <td>tania</td>\n    </tr>\n    <tr>\n      <th>3</th>\n      <td>mim</td>\n    </tr>\n  </tbody>\n</table>\n</div>"
     },
     "metadata": {},
     "execution_count": 8
    }
   ],
   "source": [
    "df[['name']]"
   ]
  },
  {
   "cell_type": "code",
   "execution_count": 9,
   "metadata": {},
   "outputs": [
    {
     "output_type": "execute_result",
     "data": {
      "text/plain": "     name  age     city\n0  alamin   22    dhaka\n1  fatema   21  comilla\n2   tania   22    itali\n3     mim   20    sylet",
      "text/html": "<div>\n<style scoped>\n    .dataframe tbody tr th:only-of-type {\n        vertical-align: middle;\n    }\n\n    .dataframe tbody tr th {\n        vertical-align: top;\n    }\n\n    .dataframe thead th {\n        text-align: right;\n    }\n</style>\n<table border=\"1\" class=\"dataframe\">\n  <thead>\n    <tr style=\"text-align: right;\">\n      <th></th>\n      <th>name</th>\n      <th>age</th>\n      <th>city</th>\n    </tr>\n  </thead>\n  <tbody>\n    <tr>\n      <th>0</th>\n      <td>alamin</td>\n      <td>22</td>\n      <td>dhaka</td>\n    </tr>\n    <tr>\n      <th>1</th>\n      <td>fatema</td>\n      <td>21</td>\n      <td>comilla</td>\n    </tr>\n    <tr>\n      <th>2</th>\n      <td>tania</td>\n      <td>22</td>\n      <td>itali</td>\n    </tr>\n    <tr>\n      <th>3</th>\n      <td>mim</td>\n      <td>20</td>\n      <td>sylet</td>\n    </tr>\n  </tbody>\n</table>\n</div>"
     },
     "metadata": {},
     "execution_count": 9
    }
   ],
   "source": [
    "df"
   ]
  },
  {
   "cell_type": "code",
   "execution_count": 10,
   "metadata": {},
   "outputs": [],
   "source": [
    "# del df['city']\n",
    "# df"
   ]
  },
  {
   "cell_type": "code",
   "execution_count": 11,
   "metadata": {},
   "outputs": [],
   "source": [
    "# df.pop('age')\n",
    "# df"
   ]
  },
  {
   "cell_type": "code",
   "execution_count": 12,
   "metadata": {},
   "outputs": [
    {
     "output_type": "execute_result",
     "data": {
      "text/plain": "     name  age     city\n0  alamin   22    dhaka\n1  fatema   21  comilla\n2   tania   22    itali\n3     mim   20    sylet",
      "text/html": "<div>\n<style scoped>\n    .dataframe tbody tr th:only-of-type {\n        vertical-align: middle;\n    }\n\n    .dataframe tbody tr th {\n        vertical-align: top;\n    }\n\n    .dataframe thead th {\n        text-align: right;\n    }\n</style>\n<table border=\"1\" class=\"dataframe\">\n  <thead>\n    <tr style=\"text-align: right;\">\n      <th></th>\n      <th>name</th>\n      <th>age</th>\n      <th>city</th>\n    </tr>\n  </thead>\n  <tbody>\n    <tr>\n      <th>0</th>\n      <td>alamin</td>\n      <td>22</td>\n      <td>dhaka</td>\n    </tr>\n    <tr>\n      <th>1</th>\n      <td>fatema</td>\n      <td>21</td>\n      <td>comilla</td>\n    </tr>\n    <tr>\n      <th>2</th>\n      <td>tania</td>\n      <td>22</td>\n      <td>itali</td>\n    </tr>\n    <tr>\n      <th>3</th>\n      <td>mim</td>\n      <td>20</td>\n      <td>sylet</td>\n    </tr>\n  </tbody>\n</table>\n</div>"
     },
     "metadata": {},
     "execution_count": 12
    }
   ],
   "source": [
    "df"
   ]
  },
  {
   "cell_type": "code",
   "execution_count": 13,
   "metadata": {},
   "outputs": [
    {
     "output_type": "execute_result",
     "data": {
      "text/plain": "     name  age     city fav_color\n0  alamin   22    dhaka     black\n1  fatema   21  comilla       red\n2   tania   22    itali     green\n3     mim   20    sylet    orange",
      "text/html": "<div>\n<style scoped>\n    .dataframe tbody tr th:only-of-type {\n        vertical-align: middle;\n    }\n\n    .dataframe tbody tr th {\n        vertical-align: top;\n    }\n\n    .dataframe thead th {\n        text-align: right;\n    }\n</style>\n<table border=\"1\" class=\"dataframe\">\n  <thead>\n    <tr style=\"text-align: right;\">\n      <th></th>\n      <th>name</th>\n      <th>age</th>\n      <th>city</th>\n      <th>fav_color</th>\n    </tr>\n  </thead>\n  <tbody>\n    <tr>\n      <th>0</th>\n      <td>alamin</td>\n      <td>22</td>\n      <td>dhaka</td>\n      <td>black</td>\n    </tr>\n    <tr>\n      <th>1</th>\n      <td>fatema</td>\n      <td>21</td>\n      <td>comilla</td>\n      <td>red</td>\n    </tr>\n    <tr>\n      <th>2</th>\n      <td>tania</td>\n      <td>22</td>\n      <td>itali</td>\n      <td>green</td>\n    </tr>\n    <tr>\n      <th>3</th>\n      <td>mim</td>\n      <td>20</td>\n      <td>sylet</td>\n      <td>orange</td>\n    </tr>\n  </tbody>\n</table>\n</div>"
     },
     "metadata": {},
     "execution_count": 13
    }
   ],
   "source": [
    "newdata = ['black','red','green','orange']\n",
    "df.insert(loc=3,column=\"fav_color\",value=newdata)\n",
    "df"
   ]
  },
  {
   "cell_type": "code",
   "execution_count": 14,
   "metadata": {},
   "outputs": [
    {
     "output_type": "execute_result",
     "data": {
      "text/plain": "     name  age     city fav_color\n1  fatema   21  comilla       red\n2   tania   22    itali     green\n3     mim   20    sylet    orange",
      "text/html": "<div>\n<style scoped>\n    .dataframe tbody tr th:only-of-type {\n        vertical-align: middle;\n    }\n\n    .dataframe tbody tr th {\n        vertical-align: top;\n    }\n\n    .dataframe thead th {\n        text-align: right;\n    }\n</style>\n<table border=\"1\" class=\"dataframe\">\n  <thead>\n    <tr style=\"text-align: right;\">\n      <th></th>\n      <th>name</th>\n      <th>age</th>\n      <th>city</th>\n      <th>fav_color</th>\n    </tr>\n  </thead>\n  <tbody>\n    <tr>\n      <th>1</th>\n      <td>fatema</td>\n      <td>21</td>\n      <td>comilla</td>\n      <td>red</td>\n    </tr>\n    <tr>\n      <th>2</th>\n      <td>tania</td>\n      <td>22</td>\n      <td>itali</td>\n      <td>green</td>\n    </tr>\n    <tr>\n      <th>3</th>\n      <td>mim</td>\n      <td>20</td>\n      <td>sylet</td>\n      <td>orange</td>\n    </tr>\n  </tbody>\n</table>\n</div>"
     },
     "metadata": {},
     "execution_count": 14
    }
   ],
   "source": [
    "df[1:]"
   ]
  },
  {
   "cell_type": "code",
   "execution_count": 15,
   "metadata": {},
   "outputs": [
    {
     "output_type": "execute_result",
     "data": {
      "text/plain": "   age fav_color\n1   21       red\n3   20    orange",
      "text/html": "<div>\n<style scoped>\n    .dataframe tbody tr th:only-of-type {\n        vertical-align: middle;\n    }\n\n    .dataframe tbody tr th {\n        vertical-align: top;\n    }\n\n    .dataframe thead th {\n        text-align: right;\n    }\n</style>\n<table border=\"1\" class=\"dataframe\">\n  <thead>\n    <tr style=\"text-align: right;\">\n      <th></th>\n      <th>age</th>\n      <th>fav_color</th>\n    </tr>\n  </thead>\n  <tbody>\n    <tr>\n      <th>1</th>\n      <td>21</td>\n      <td>red</td>\n    </tr>\n    <tr>\n      <th>3</th>\n      <td>20</td>\n      <td>orange</td>\n    </tr>\n  </tbody>\n</table>\n</div>"
     },
     "metadata": {},
     "execution_count": 15
    }
   ],
   "source": [
    "df.loc[[1,3],['age','fav_color']]"
   ]
  },
  {
   "cell_type": "code",
   "execution_count": 16,
   "metadata": {},
   "outputs": [
    {
     "output_type": "execute_result",
     "data": {
      "text/plain": "     name  age     city fav_color\n0  alamin   22    dhaka     black\n1  fatema   21  comilla       red\n2   tania   22    itali     green\n3     mim   20    sylet    orange",
      "text/html": "<div>\n<style scoped>\n    .dataframe tbody tr th:only-of-type {\n        vertical-align: middle;\n    }\n\n    .dataframe tbody tr th {\n        vertical-align: top;\n    }\n\n    .dataframe thead th {\n        text-align: right;\n    }\n</style>\n<table border=\"1\" class=\"dataframe\">\n  <thead>\n    <tr style=\"text-align: right;\">\n      <th></th>\n      <th>name</th>\n      <th>age</th>\n      <th>city</th>\n      <th>fav_color</th>\n    </tr>\n  </thead>\n  <tbody>\n    <tr>\n      <th>0</th>\n      <td>alamin</td>\n      <td>22</td>\n      <td>dhaka</td>\n      <td>black</td>\n    </tr>\n    <tr>\n      <th>1</th>\n      <td>fatema</td>\n      <td>21</td>\n      <td>comilla</td>\n      <td>red</td>\n    </tr>\n    <tr>\n      <th>2</th>\n      <td>tania</td>\n      <td>22</td>\n      <td>itali</td>\n      <td>green</td>\n    </tr>\n    <tr>\n      <th>3</th>\n      <td>mim</td>\n      <td>20</td>\n      <td>sylet</td>\n      <td>orange</td>\n    </tr>\n  </tbody>\n</table>\n</div>"
     },
     "metadata": {},
     "execution_count": 16
    }
   ],
   "source": [
    "df"
   ]
  },
  {
   "cell_type": "code",
   "execution_count": 18,
   "metadata": {},
   "outputs": [
    {
     "output_type": "execute_result",
     "data": {
      "text/plain": "             age\ncount   4.000000\nmean   21.250000\nstd     0.957427\nmin    20.000000\n25%    20.750000\n50%    21.500000\n75%    22.000000\nmax    22.000000",
      "text/html": "<div>\n<style scoped>\n    .dataframe tbody tr th:only-of-type {\n        vertical-align: middle;\n    }\n\n    .dataframe tbody tr th {\n        vertical-align: top;\n    }\n\n    .dataframe thead th {\n        text-align: right;\n    }\n</style>\n<table border=\"1\" class=\"dataframe\">\n  <thead>\n    <tr style=\"text-align: right;\">\n      <th></th>\n      <th>age</th>\n    </tr>\n  </thead>\n  <tbody>\n    <tr>\n      <th>count</th>\n      <td>4.000000</td>\n    </tr>\n    <tr>\n      <th>mean</th>\n      <td>21.250000</td>\n    </tr>\n    <tr>\n      <th>std</th>\n      <td>0.957427</td>\n    </tr>\n    <tr>\n      <th>min</th>\n      <td>20.000000</td>\n    </tr>\n    <tr>\n      <th>25%</th>\n      <td>20.750000</td>\n    </tr>\n    <tr>\n      <th>50%</th>\n      <td>21.500000</td>\n    </tr>\n    <tr>\n      <th>75%</th>\n      <td>22.000000</td>\n    </tr>\n    <tr>\n      <th>max</th>\n      <td>22.000000</td>\n    </tr>\n  </tbody>\n</table>\n</div>"
     },
     "metadata": {},
     "execution_count": 18
    }
   ],
   "source": [
    "df.describe()"
   ]
  },
  {
   "cell_type": "code",
   "execution_count": null,
   "metadata": {},
   "outputs": [],
   "source": []
  }
 ],
 "metadata": {
  "kernelspec": {
   "display_name": "Python 3",
   "language": "python",
   "name": "python3"
  },
  "language_info": {
   "codemirror_mode": {
    "name": "ipython",
    "version": 3
   },
   "file_extension": ".py",
   "mimetype": "text/x-python",
   "name": "python",
   "nbconvert_exporter": "python",
   "pygments_lexer": "ipython3",
   "version": "3.8.5"
  }
 },
 "nbformat": 4,
 "nbformat_minor": 4
}